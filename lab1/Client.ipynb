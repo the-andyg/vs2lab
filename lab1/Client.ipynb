{
 "cells": [
  {
   "cell_type": "markdown",
   "metadata": {},
   "source": [
    "# Running server and client in separate notebooks - client part\n",
    "\n",
    "Here we start the client. The server needs to be started first. Lets go...."
   ]
  },
  {
   "cell_type": "code",
   "execution_count": 1,
   "metadata": {},
   "outputs": [
    {
     "name": "stderr",
     "output_type": "stream",
     "text": [
      "2023-10-19 11:51:39,981 - vs2lab.a1_layers.clientserver.Client - INFO - Client connected to socket <socket.socket fd=57, family=2, type=1, proto=0, laddr=('127.0.0.1', 44574), raddr=('127.0.0.1', 50007)>\n",
      "2023-10-19 11:51:39,982 - vs2lab.a1_layers.clientserver.Client - INFO - Calling Server\n",
      "2023-10-19 11:51:39,987 - vs2lab.a1_layers.clientserver.Client - INFO - Received Message: 6344157063\n",
      "2023-10-19 11:51:39,992 - vs2lab.a1_layers.clientserver.Client - INFO - Received Message: {'Alice': '8158985755', 'Bob': '5748284870', 'Charlie': '9619363479', 'David': '3796094156', 'Eva': '8051491934', 'Frank': '6912706211', 'Grace': '3696796785', 'Hannah': '2838462943', 'Ivy': '3186182892', 'Jack': '0749728218', 'Kelly': '7351187693', 'Liam': '4194320924', 'Mia': '6344157063', 'Nathan': '3249601198', 'Olivia': '9979151818', 'Peter': '4140787257', 'Quinn': '4744639601', 'Rachel': '4995231662', 'Sam': '0126472781', 'Tom': '5482254142'}\n",
      "2023-10-19 11:51:39,994 - vs2lab.a1_layers.clientserver.Client - INFO - Client down.\n"
     ]
    },
    {
     "data": {
      "text/plain": [
       "'{\"Alice\": \"8158985755\", \"Bob\": \"5748284870\", \"Charlie\": \"9619363479\", \"David\": \"3796094156\", \"Eva\": \"8051491934\", \"Frank\": \"6912706211\", \"Grace\": \"3696796785\", \"Hannah\": \"2838462943\", \"Ivy\": \"3186182892\", \"Jack\": \"0749728218\", \"Kelly\": \"7351187693\", \"Liam\": \"4194320924\", \"Mia\": \"6344157063\", \"Nathan\": \"3249601198\", \"Olivia\": \"9979151818\", \"Peter\": \"4140787257\", \"Quinn\": \"4744639601\", \"Rachel\": \"4995231662\", \"Sam\": \"0126472781\", \"Tom\": \"5482254142\"}'"
      ]
     },
     "execution_count": 1,
     "metadata": {},
     "output_type": "execute_result"
    }
   ],
   "source": [
    "import clientserver # import from our script\n",
    "\n",
    "client = clientserver.Client() # Create a client instance\n",
    "\n",
    "client.call() # start the call and print echo"
   ]
  },
  {
   "cell_type": "markdown",
   "metadata": {},
   "source": [
    "Finished."
   ]
  }
 ],
 "metadata": {
  "kernelspec": {
   "display_name": "Python 3 (ipykernel)",
   "language": "python",
   "name": "python3"
  },
  "language_info": {
   "codemirror_mode": {
    "name": "ipython",
    "version": 3
   },
   "file_extension": ".py",
   "mimetype": "text/x-python",
   "name": "python",
   "nbconvert_exporter": "python",
   "pygments_lexer": "ipython3",
   "version": "3.11.4"
  }
 },
 "nbformat": 4,
 "nbformat_minor": 4
}
