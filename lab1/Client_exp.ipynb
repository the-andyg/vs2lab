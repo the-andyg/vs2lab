{
 "cells": [
  {
   "cell_type": "code",
   "execution_count": null,
   "metadata": {},
   "outputs": [],
   "source": [
    "from clientserver import Client\n",
    "\n",
    "client = Client() # Create a client instance\n",
    "\n",
    "client.call(\"GET Mia\") # start the call and ask for Mia's Phone Number\n",
    "\n",
    "client.call(\"GETALL\") # get the entire Phone Book"
   ]
  }
 ],
 "metadata": {
  "language_info": {
   "name": "python"
  }
 },
 "nbformat": 4,
 "nbformat_minor": 2
}
