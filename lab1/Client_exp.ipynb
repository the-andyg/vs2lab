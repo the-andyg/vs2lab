{
 "cells": [
  {
   "cell_type": "code",
   "execution_count": 2,
   "metadata": {},
   "outputs": [
    {
     "name": "stderr",
     "output_type": "stream",
     "text": [
      "2023-10-22 21:33:41,997 - vs2lab.a1_layers.clientserver.Client - INFO - Client connected to socket <socket.socket fd=68, family=2, type=1, proto=0, laddr=('127.0.0.1', 49274), raddr=('127.0.0.1', 50007)>\n",
      "2023-10-22 21:33:41,999 - vs2lab.a1_layers.clientserver.Client - INFO - Calling Server\n",
      "2023-10-22 21:33:42,003 - vs2lab.a1_layers.clientserver.Client - INFO - Received Message: 8988075456\n",
      "2023-10-22 21:33:42,006 - vs2lab.a1_layers.clientserver.Client - INFO - Client connected to socket <socket.socket fd=70, family=2, type=1, proto=0, laddr=('127.0.0.1', 49282), raddr=('127.0.0.1', 50007)>\n",
      "2023-10-22 21:33:42,008 - vs2lab.a1_layers.clientserver.Client - INFO - Calling Server\n"
     ]
    }
   ],
   "source": [
    "from clientserver import Client\n",
    "\n",
    "client = Client() # Create a client instance\n",
    "\n",
    "client.call(\"GET Mia\") # start the call and ask for Mia's Phone Number\n",
    "\n",
    "client.call(\"GETALL\") # get the entire Phone Book"
   ]
  }
 ],
 "metadata": {
  "kernelspec": {
   "display_name": "Python 3 (ipykernel)",
   "language": "python",
   "name": "python3"
  },
  "language_info": {
   "codemirror_mode": {
    "name": "ipython",
    "version": 3
   },
   "file_extension": ".py",
   "mimetype": "text/x-python",
   "name": "python",
   "nbconvert_exporter": "python",
   "pygments_lexer": "ipython3",
   "version": "3.11.4"
  }
 },
 "nbformat": 4,
 "nbformat_minor": 4
}
