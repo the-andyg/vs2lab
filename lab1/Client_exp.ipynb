{
 "cells": [
  {
   "cell_type": "code",
   "execution_count": 1,
   "metadata": {},
   "outputs": [
    {
     "name": "stderr",
     "output_type": "stream",
     "text": [
      "2023-11-02 11:28:52,022 - vs2lab.a1_layers.clientserver.Client - INFO - Client connected to socket <socket.socket fd=57, family=2, type=1, proto=0, laddr=('127.0.0.1', 38676), raddr=('127.0.0.1', 50007)>\n",
      "2023-11-02 11:28:52,025 - vs2lab.a1_layers.clientserver.Client - INFO - Calling Server\n",
      "2023-11-02 11:28:52,032 - vs2lab.a1_layers.clientserver.Client - INFO - Received Message: \"\"\n",
      "2023-11-02 11:28:52,036 - vs2lab.a1_layers.clientserver.Client - INFO - Calling Server\n",
      "2023-11-02 11:28:52,046 - vs2lab.a1_layers.clientserver.Client - INFO - Received Message: {'AA': '27', 'AB': '28', 'AC': '29', 'AD': '30', 'AE': '31', 'BA': '53', 'BB': '54', 'BC': '55', 'BD': '56', 'BE': '57', 'CA': '79', 'CB': '80', 'CC': '81', 'CD': '82', 'CE': '83', 'DA': '105', 'DB': '106', 'DC': '107', 'DD': '108', 'DE': '109', 'EA': '131', 'EB': '132', 'EC': '133', 'ED': '134', 'EE': '135'}\n"
     ]
    },
    {
     "data": {
      "text/plain": [
       "\"{'AA': '27', 'AB': '28', 'AC': '29', 'AD': '30', 'AE': '31', 'BA': '53', 'BB': '54', 'BC': '55', 'BD': '56', 'BE': '57', 'CA': '79', 'CB': '80', 'CC': '81', 'CD': '82', 'CE': '83', 'DA': '105', 'DB': '106', 'DC': '107', 'DD': '108', 'DE': '109', 'EA': '131', 'EB': '132', 'EC': '133', 'ED': '134', 'EE': '135'}\""
      ]
     },
     "execution_count": 1,
     "metadata": {},
     "output_type": "execute_result"
    }
   ],
   "source": [
    "from clientserver import Client\n",
    "\n",
    "client = Client() # Create a client instance\n",
    "\n",
    "client.call(\"GET AA\") # start the call and ask for Mia's Phone Number\n",
    "\n",
    "client.call(\"GETALL\") # get the entire Phone Book"
   ]
  },
  {
   "cell_type": "code",
   "execution_count": null,
   "metadata": {},
   "outputs": [],
   "source": []
  }
 ],
 "metadata": {
  "kernelspec": {
   "display_name": "Python 3 (ipykernel)",
   "language": "python",
   "name": "python3"
  },
  "language_info": {
   "codemirror_mode": {
    "name": "ipython",
    "version": 3
   },
   "file_extension": ".py",
   "mimetype": "text/x-python",
   "name": "python",
   "nbconvert_exporter": "python",
   "pygments_lexer": "ipython3",
   "version": "3.11.4"
  }
 },
 "nbformat": 4,
 "nbformat_minor": 4
}
