{
 "cells": [
  {
   "cell_type": "code",
   "execution_count": null,
   "metadata": {},
   "outputs": [
    {
     "name": "stderr",
     "output_type": "stream",
     "text": [
      "2023-11-02 11:28:40,817 - vs2lab.lab1.clientserver.Server - INFO - Server bound to socket <socket.socket fd=57, family=2, type=1, proto=0, laddr=('127.0.0.1', 50007)>\n",
      "2023-11-02 11:28:40,819 - vs2lab.lab1.clientserver.Server - INFO - {'AA': '27', 'AB': '28', 'AC': '29', 'AD': '30', 'AE': '31', 'BA': '53', 'BB': '54', 'BC': '55', 'BD': '56', 'BE': '57', 'CA': '79', 'CB': '80', 'CC': '81', 'CD': '82', 'CE': '83', 'DA': '105', 'DB': '106', 'DC': '107', 'DD': '108', 'DE': '109', 'EA': '131', 'EB': '132', 'EC': '133', 'ED': '134', 'EE': '135'}\n",
      "2023-11-02 11:28:52,027 - vs2lab.lab1.clientserver.Server - INFO - Received DATA: GET Mia\n",
      "2023-11-02 11:28:52,029 - vs2lab.lab1.clientserver.Server - INFO - Data starts with GET \n",
      "2023-11-02 11:28:52,040 - vs2lab.lab1.clientserver.Server - INFO - Received DATA: GETALL\n",
      "2023-11-02 11:28:52,043 - vs2lab.lab1.clientserver.Server - INFO - Data starts with GETALL\n"
     ]
    }
   ],
   "source": [
    "from clientserver import Server\n",
    "\n",
    "server = Server() # Create a server instance\n",
    "\n",
    "server.serve() # start server routine in the forked process"
   ]
  },
  {
   "cell_type": "code",
   "execution_count": null,
   "metadata": {},
   "outputs": [],
   "source": []
  }
 ],
 "metadata": {
  "kernelspec": {
   "display_name": "Python 3 (ipykernel)",
   "language": "python",
   "name": "python3"
  },
  "language_info": {
   "codemirror_mode": {
    "name": "ipython",
    "version": 3
   },
   "file_extension": ".py",
   "mimetype": "text/x-python",
   "name": "python",
   "nbconvert_exporter": "python",
   "pygments_lexer": "ipython3",
   "version": "3.11.4"
  }
 },
 "nbformat": 4,
 "nbformat_minor": 4
}
