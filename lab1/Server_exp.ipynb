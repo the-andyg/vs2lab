{
 "cells": [
  {
   "cell_type": "code",
   "execution_count": null,
   "metadata": {},
   "outputs": [],
   "source": [
    "from clientserver import Server\n",
    "\n",
    "server = Server() # Create a server instance\n",
    "\n",
    "server.serve() # start server routine in the forked process"
   ]
  }
 ],
 "metadata": {
  "language_info": {
   "name": "python"
  }
 },
 "nbformat": 4,
 "nbformat_minor": 2
}
