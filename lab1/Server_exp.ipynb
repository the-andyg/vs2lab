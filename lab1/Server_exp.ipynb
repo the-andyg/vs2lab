{
 "cells": [
  {
   "cell_type": "code",
   "execution_count": 1,
   "metadata": {},
   "outputs": [
    {
     "name": "stderr",
     "output_type": "stream",
     "text": [
      "2023-10-22 21:40:02,406 - vs2lab.lab1.clientserver.Server - INFO - Server bound to socket <socket.socket fd=66, family=2, type=1, proto=0, laddr=('127.0.0.1', 50007)>\n",
      "2023-10-22 21:40:23,758 - vs2lab.lab1.clientserver.Server - INFO - Received DATA: GET Mia\n",
      "2023-10-22 21:40:23,760 - vs2lab.lab1.clientserver.Server - INFO - Data starts with GET \n",
      "2023-10-22 21:40:23,767 - vs2lab.lab1.clientserver.Server - INFO - Received DATA: GETALL\n",
      "2023-10-22 21:40:23,768 - vs2lab.lab1.clientserver.Server - INFO - Data starts with GETALL\n",
      "2023-10-22 21:40:33,481 - vs2lab.lab1.clientserver.Server - INFO - Received DATA: \n",
      "2023-10-22 21:40:33,483 - vs2lab.lab1.clientserver.Server - INFO - Received DATA: GET Mia\n",
      "2023-10-22 21:40:33,485 - vs2lab.lab1.clientserver.Server - INFO - Data starts with GET \n",
      "2023-10-22 21:40:33,489 - vs2lab.lab1.clientserver.Server - INFO - Received DATA: GETALL\n",
      "2023-10-22 21:40:33,490 - vs2lab.lab1.clientserver.Server - INFO - Data starts with GETALL\n",
      "2023-10-22 21:40:39,644 - vs2lab.lab1.clientserver.Server - INFO - Received DATA: \n",
      "2023-10-22 21:40:39,646 - vs2lab.lab1.clientserver.Server - INFO - Received DATA: GET Mia\n",
      "2023-10-22 21:40:39,647 - vs2lab.lab1.clientserver.Server - INFO - Data starts with GET \n",
      "2023-10-22 21:40:39,652 - vs2lab.lab1.clientserver.Server - INFO - Received DATA: GETALL\n",
      "2023-10-22 21:40:39,654 - vs2lab.lab1.clientserver.Server - INFO - Data starts with GETALL\n"
     ]
    },
    {
     "ename": "KeyboardInterrupt",
     "evalue": "",
     "output_type": "error",
     "traceback": [
      "\u001b[0;31m---------------------------------------------------------------------------\u001b[0m",
      "\u001b[0;31mKeyboardInterrupt\u001b[0m                         Traceback (most recent call last)",
      "\u001b[1;32m/workspaces/vs2lab/lab1/Server_exp.ipynb Cell 1\u001b[0m line \u001b[0;36m5\n\u001b[1;32m      <a href='vscode-notebook-cell://dev-container%2B7b22686f737450617468223a22633a5c5c55736572735c5c4147696c6c5c5c5079636861726d50726f6a656374735c5c7673326c6162222c226c6f63616c446f636b6572223a66616c73652c22636f6e66696746696c65223a7b22246d6964223a312c22667350617468223a22633a5c5c55736572735c5c4147696c6c5c5c5079636861726d50726f6a656374735c5c7673326c61625c5c2e646576636f6e7461696e65725c5c646576636f6e7461696e65722e6a736f6e222c225f736570223a312c2265787465726e616c223a2266696c653a2f2f2f632533412f55736572732f4147696c6c2f5079636861726d50726f6a656374732f7673326c61622f2e646576636f6e7461696e65722f646576636f6e7461696e65722e6a736f6e222c2270617468223a222f633a2f55736572732f4147696c6c2f5079636861726d50726f6a656374732f7673326c61622f2e646576636f6e7461696e65722f646576636f6e7461696e65722e6a736f6e222c22736368656d65223a2266696c65227d7d/workspaces/vs2lab/lab1/Server_exp.ipynb#W0sdnNjb2RlLXJlbW90ZQ%3D%3D?line=0'>1</a>\u001b[0m \u001b[39mfrom\u001b[39;00m \u001b[39mclientserver\u001b[39;00m \u001b[39mimport\u001b[39;00m Server\n\u001b[1;32m      <a href='vscode-notebook-cell://dev-container%2B7b22686f737450617468223a22633a5c5c55736572735c5c4147696c6c5c5c5079636861726d50726f6a656374735c5c7673326c6162222c226c6f63616c446f636b6572223a66616c73652c22636f6e66696746696c65223a7b22246d6964223a312c22667350617468223a22633a5c5c55736572735c5c4147696c6c5c5c5079636861726d50726f6a656374735c5c7673326c61625c5c2e646576636f6e7461696e65725c5c646576636f6e7461696e65722e6a736f6e222c225f736570223a312c2265787465726e616c223a2266696c653a2f2f2f632533412f55736572732f4147696c6c2f5079636861726d50726f6a656374732f7673326c61622f2e646576636f6e7461696e65722f646576636f6e7461696e65722e6a736f6e222c2270617468223a222f633a2f55736572732f4147696c6c2f5079636861726d50726f6a656374732f7673326c61622f2e646576636f6e7461696e65722f646576636f6e7461696e65722e6a736f6e222c22736368656d65223a2266696c65227d7d/workspaces/vs2lab/lab1/Server_exp.ipynb#W0sdnNjb2RlLXJlbW90ZQ%3D%3D?line=2'>3</a>\u001b[0m server \u001b[39m=\u001b[39m Server() \u001b[39m# Create a server instance\u001b[39;00m\n\u001b[0;32m----> <a href='vscode-notebook-cell://dev-container%2B7b22686f737450617468223a22633a5c5c55736572735c5c4147696c6c5c5c5079636861726d50726f6a656374735c5c7673326c6162222c226c6f63616c446f636b6572223a66616c73652c22636f6e66696746696c65223a7b22246d6964223a312c22667350617468223a22633a5c5c55736572735c5c4147696c6c5c5c5079636861726d50726f6a656374735c5c7673326c61625c5c2e646576636f6e7461696e65725c5c646576636f6e7461696e65722e6a736f6e222c225f736570223a312c2265787465726e616c223a2266696c653a2f2f2f632533412f55736572732f4147696c6c2f5079636861726d50726f6a656374732f7673326c61622f2e646576636f6e7461696e65722f646576636f6e7461696e65722e6a736f6e222c2270617468223a222f633a2f55736572732f4147696c6c2f5079636861726d50726f6a656374732f7673326c61622f2e646576636f6e7461696e65722f646576636f6e7461696e65722e6a736f6e222c22736368656d65223a2266696c65227d7d/workspaces/vs2lab/lab1/Server_exp.ipynb#W0sdnNjb2RlLXJlbW90ZQ%3D%3D?line=4'>5</a>\u001b[0m server\u001b[39m.\u001b[39;49mserve() \u001b[39m# start server routine in the forked process\u001b[39;00m\n",
      "File \u001b[0;32m/workspaces/vs2lab/lab1/clientserver.py:45\u001b[0m, in \u001b[0;36mServer.serve\u001b[0;34m(self)\u001b[0m\n\u001b[1;32m     43\u001b[0m (connection, address) \u001b[39m=\u001b[39m \u001b[39mself\u001b[39m\u001b[39m.\u001b[39msock\u001b[39m.\u001b[39maccept()  \u001b[39m# returns new socket and address of client\u001b[39;00m\n\u001b[1;32m     44\u001b[0m \u001b[39mwhile\u001b[39;00m \u001b[39mTrue\u001b[39;00m:  \u001b[39m# forever\u001b[39;00m\n\u001b[0;32m---> 45\u001b[0m     data \u001b[39m=\u001b[39m connection\u001b[39m.\u001b[39;49mrecv(\u001b[39m1024\u001b[39;49m)\u001b[39m.\u001b[39mdecode(\u001b[39m'\u001b[39m\u001b[39mascii\u001b[39m\u001b[39m'\u001b[39m)  \u001b[39m# receive data from client\u001b[39;00m\n\u001b[1;32m     46\u001b[0m     \u001b[39mself\u001b[39m\u001b[39m.\u001b[39m_logger\u001b[39m.\u001b[39minfo(\u001b[39m\"\u001b[39m\u001b[39mReceived DATA: \u001b[39m\u001b[39m\"\u001b[39m \u001b[39m+\u001b[39m data)\n\u001b[1;32m     47\u001b[0m     \u001b[39mif\u001b[39;00m data\u001b[39m.\u001b[39mstartswith(\u001b[39m\"\u001b[39m\u001b[39mGET \u001b[39m\u001b[39m\"\u001b[39m):\n",
      "\u001b[0;31mKeyboardInterrupt\u001b[0m: "
     ]
    }
   ],
   "source": [
    "from clientserver import Server\n",
    "\n",
    "server = Server() # Create a server instance\n",
    "\n",
    "server.serve() # start server routine in the forked process"
   ]
  }
 ],
 "metadata": {
  "kernelspec": {
   "display_name": "Python 3 (ipykernel)",
   "language": "python",
   "name": "python3"
  },
  "language_info": {
   "codemirror_mode": {
    "name": "ipython",
    "version": 3
   },
   "file_extension": ".py",
   "mimetype": "text/x-python",
   "name": "python",
   "nbconvert_exporter": "python",
   "pygments_lexer": "ipython3",
   "version": "3.11.4"
  }
 },
 "nbformat": 4,
 "nbformat_minor": 4
}
